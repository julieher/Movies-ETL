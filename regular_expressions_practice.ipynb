{
 "cells": [
  {
   "cell_type": "code",
   "execution_count": null,
   "id": "77a8ce4e",
   "metadata": {},
   "outputs": [],
   "source": [
    "date_form_one = r'(?:January|February|March|April|May|June|July|August|September|October|November|December)\\s[123]?\\d,\\s\\d{4}'"
   ]
  },
  {
   "cell_type": "code",
   "execution_count": null,
   "id": "f7b37a73",
   "metadata": {},
   "outputs": [],
   "source": [
    "\n",
    "Non-capturing group --> (?:January|February|March|April|May|June|July|August|September|October|November|December)\n",
    "\n",
    "\\s --> matches any whitespace character\n",
    "[123]? ---> ? matches the previous token between zero and one times, as many times as possible, giving back as needed\n",
    "       ---> 123 matches a single character in the list 123\n",
    "\\d ---> matches a digit (equivalent to [0-9])\n",
    ", ---> matches the character\n",
    "\\s ---> matches any whitespace character \n",
    "\\d ---> matches a digit (equivalent to [0-9])\n",
    "{4} ---> matches the previous token exactly 4 times"
   ]
  },
  {
   "cell_type": "code",
   "execution_count": null,
   "id": "ba20c2be",
   "metadata": {},
   "outputs": [],
   "source": [
    "date_form_one = re.compile(r\"\"\"\n",
    "    (\n",
    "    ?:            # matches s/not be extracted\n",
    "    January|February|March|April|May|June|July|August|September|October|November|December\n",
    "    )\n",
    "    \\s            # any white space\n",
    "    [123]         # \n",
    "    ?             # \n",
    "    \\d,           # \n",
    "    \\s            #\n",
    "    \\d{4}         #\n",
    "    \n",
    "    \"\"\", re.VERBOSE|re.MULTILINE)\n",
    "\n",
    "x = date_form_one.search(\"\"\"\n",
    " Item 1.0(a) foo bar\n",
    "\"\"\")\n",
    "\n",
    "print(x)"
   ]
  },
  {
   "cell_type": "code",
   "execution_count": null,
   "id": "822b372c",
   "metadata": {},
   "outputs": [],
   "source": [
    "\n"
   ]
  }
 ],
 "metadata": {
  "kernelspec": {
   "display_name": "PythonData",
   "language": "python",
   "name": "pythondata"
  },
  "language_info": {
   "codemirror_mode": {
    "name": "ipython",
    "version": 3
   },
   "file_extension": ".py",
   "mimetype": "text/x-python",
   "name": "python",
   "nbconvert_exporter": "python",
   "pygments_lexer": "ipython3",
   "version": "3.7.10"
  }
 },
 "nbformat": 4,
 "nbformat_minor": 5
}
